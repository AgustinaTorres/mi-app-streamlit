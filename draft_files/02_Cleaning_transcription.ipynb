{
 "cells": [
  {
   "cell_type": "code",
   "execution_count": 1,
   "metadata": {},
   "outputs": [],
   "source": [
    "#Import libraries\n",
    "import spacy\n",
    "import os"
   ]
  },
  {
   "cell_type": "code",
   "execution_count": 2,
   "metadata": {},
   "outputs": [],
   "source": [
    "#Import the text_generated\n",
    "folder_path = 'processed_data'\n",
    "text_path = os.path.join(folder_path, 'video_text.txt')\n",
    "#text_path = os.path.join(folder_path, 'pdf_text.txt')\n",
    "\n",
    "with open(text_path, 'r') as file:\n",
    "    raw_text = file.read()"
   ]
  },
  {
   "cell_type": "code",
   "execution_count": 3,
   "metadata": {},
   "outputs": [
    {
     "name": "stdout",
     "output_type": "stream",
     "text": [
      "\n",
      "Texto Preprocesado:\n",
      " gwendolyn stripling hello welcome introduction generative ai gwendolyn stripling artificial intelligence technical curriculum developer google cloud course learn define generative ai explain generative ai work describe generative ai model type describe generative ai application generative ai type artificial intelligence technology produce type content include text imagery audio synthetic datum artificial intelligence go explore generative artificial intelligence let provide bit context common question ask artificial intelligence difference ai machine learning way think ai discipline like physics example ai branch computer science deal creation intelligence agent system reason learn act autonomously essentially ai theory method build machine think act like human discipline machine learning subfield ai program system train model input datum train model useful prediction new see datum draw train model machine learning give computer ability learn explicit programming common class machine learning model unsupervise supervise ml model key difference supervised model label label datum datum come tag like type number unlabeled datum datum come tag graph example problem supervised model try solve example let owner restaurant historical datum bill different people tip base order type pick deliver supervised learning model learn past example predict future value case tip model use total bill predict future tip base order pick deliver example problem unsupervised model try solve want look tenure income group cluster employee fast track unsupervised problem discovery look raw data see naturally fall group let little deep graphically understand concept foundation understanding generative ai supervised learning test data value x input model model output prediction compare prediction training datum train model predict test datum value actual training datum value far apart call error model try reduce error predict actual value close classic optimization problem explore difference artificial intelligence machine learning supervise unsupervised learning let briefly explore deep learning fit subset machine learning method machine learning broad field encompass different technique deep learning type machine learning use artificial neural network allow process complex pattern machine learning artificial neural network inspire human brain interconnect node neuron learn perform task process datum make prediction deep learning model typically layer neuron allow learn complex pattern traditional machine learning model neural network use label unlabeled datum call semi supervised learning semi supervised learning neural network train small label datum large unlabeled datum label data help neural network learn basic concept task unlabeled datum help neural network generalize new example finally generative ai fit ai discipline gen ai subset deep learning mean use artificial neural network process label unlabeled datum supervised unsupervised semi supervised method large language model subset deep learning deep learning model machine learning model general divide type generative discriminative discriminative model type model classify predict label datum point discriminative model typically train data set label data point learn relationship feature data point label discriminative model train predict label new datum point generative model generate new datum instance base learned probability distribution exist datum generative model generate new content example discriminative model learn conditional probability distribution probability y output give x input dog classify dog cat generative model learn joint probability distribution probability x y predict conditional probability dog generate picture dog summarize generative model generate new datum instance discriminative model discriminate different kind datum instance image show traditional machine learning model attempt learn relationship datum label want predict image show generative ai model attempt learn pattern content generate new content good way distinguish gen ai show illustration gen ai output y label number class example spam spam probability gen ai output natural language like speech text image audio example visualize mathematically look like see y equal f x equation calculate dependent output process give different input y stand model output f embody function calculation x represent input input formula model output function input y number like predict sale gen ai y sentence like define sale generative question elicit text response response base massive large datum model train summarize high level traditional classical supervised unsupervised learning process take training code label datum build model depend use case problem model prediction classify cluster use example robust gen ai process gen ai process training code label datum unlabeled datum datum type build foundation model foundation model generate new content example text code image audio video et cetera come long away traditional programming neural network generative model traditional programming hard code rule distinguish type animal leg ear fur yes like yarn catnip wave neural network network picture cat dog ask cat predict cat generative wave user generate content text image audio video et cetera example model like palm pathways language model lambda language model dialogue applications ingest large datum multiple source internet build foundation language model use simply ask question type prompt verbally talk prompt ask cat learn cat come formal definition generative ai gen ai type artificial intelligence create new content base learn exist content process learn exist content call training result creation statistical model give prompt ai use model predict expect response generate new content essentially learn underlie structure datum generate new sample similar datum train previously mention generative language model learn example show create entirely new base information large language model type generative ai generate novel combination text form natural sound language generative image model take image input output text image video example output text visual question answer output image image completion generate output video animation generate generative language model take text input output text image audio decision example output text question answering generate output image video generate state generative language model learn pattern language training datum give text predict come generative language model pattern matching system learn pattern base datum provide example base thing learn training datum offer prediction complete sentence make sandwich peanut butter jelly example bard train massive text datum able communicate generate humanlike text response wide range prompt question example meaning life bart give contextual answer show high probability response power generative ai come use transformer transformer produce revolution natural language processing high level transformer model consist encoder decoder encoder encode input sequence pass decoder learn decode representation relevant task transformer hallucination word phrase generate model nonsensical grammatically incorrect hallucination cause number factor include model train datum model train noisy dirty datum model give context model give constraint hallucination problem transformer output text difficult understand model likely generate incorrect misleading information prompt short piece text give large language model input control output model variety way prompt design process create prompt generate desire output large language model previously mention gen ai depend lot training datum feed analyze pattern structure input datum learn access browser base prompt user generate content show illustration type input base datum associate model type text text text text model natural language input produce text output model train learn mapping pair text example translation language text image text image model train large set image caption short text description diffusion method achieve text video text text video model aim generate video representation text input input text single sentence script output video correspond input text similarly text model generate dimensional object correspond user text description example game world text task text task model train perform define task action base text input task wide range action answer question perform search make prediction take sort action example text task model train navigate web ui change doc gui foundation model large ai model pre train vast quantity datum design adapt fine tune wide range downstream task sentiment analysis image captioning object recognition foundation model potential revolutionize industry include health care finance customer service detect fraud provide personalized customer support vertex ai offer model garden include foundation model language foundation model include palm api chat text vision foundation model include stable diffusion show effective generate high quality image text description let use case need gather sentiment customer feel product service use classification task sentiment analysis task model purpose need perform occupancy analytic task model use case show gen ai application let look example code generation show second block code example input code file conversion problem convert python json use bard insert prompt box following pandas dataframe column file hour generate try convert json file format show onscreen bard return step need code snippet output json format get well happen google free browser base jupyter notebook know colab simply export python code google colab summarize bart code generation help debug line source code explain code line line craft sql query database translate code language generate documentation tutorial source code generative ai studio let quickly explore customize gen ai model leverage application google cloud generative ai studio help developer create deploy gen ai model provide variety tool resource easy start example library pre train model tool fine tuning model tool deploy model production community forum developer share idea collaborate generative ai app builder let create gen ai app have write code gen ai app builder drag drop interface make easy design build app visual editor make easy create edit app content build search engine allow user search information app conversational ai engine help user interact app natural language create digital assistant custom search engine knowledge basis training application palm api let test experiment google large language model gen ai tool prototype quick accessible developer integrate palm api maker suite use access api graphical user interface suite include number different tool model training tool model deployment tool model monitoring tool model training tool help developer train ml model datum different algorithm model deployment tool help developer deploy ml model production number different deployment option model monitoring tool help developer monitor performance ml model production dashboard number different metric thank watch course introduction generative ai\n"
     ]
    }
   ],
   "source": [
    "# Load the model\n",
    "nlp = spacy.load(\"en_core_web_sm\")\n",
    "\n",
    "# Text processing\n",
    "doc = nlp(raw_text) # or video_text\n",
    "\n",
    "# Processing function\n",
    "def preprocess_text(doc):\n",
    "    processed_tokens = []\n",
    "    for token in doc:\n",
    "        # Eliminar stop words y puntuación, mantener solo palabras alfabéticas\n",
    "        if not token.is_stop and not token.is_punct and token.is_alpha:\n",
    "            # Lematizar el token y convertir a minúsculas\n",
    "            lemmatized_token = token.lemma_.lower()\n",
    "            processed_tokens.append(lemmatized_token)\n",
    "\n",
    "    # Unir los tokens procesados en una cadena de texto\n",
    "    processed_text = \" \".join(processed_tokens)\n",
    "    return processed_text\n",
    "\n",
    "# Aplicar preprocesamiento\n",
    "cleaned_text = preprocess_text(doc)\n",
    "#print(\"Texto Original:\\n\", text)\n",
    "print(\"\\nTexto Preprocesado:\\n\", cleaned_text)\n"
   ]
  },
  {
   "cell_type": "code",
   "execution_count": 4,
   "metadata": {},
   "outputs": [],
   "source": [
    "# Save the cleaned transcription\n",
    "with open(os.path.join('processed_data', 'cleaned_text.txt'), 'w') as file:\n",
    "    file.write(cleaned_text)"
   ]
  }
 ],
 "metadata": {
  "kernelspec": {
   "display_name": "venv",
   "language": "python",
   "name": "python3"
  },
  "language_info": {
   "codemirror_mode": {
    "name": "ipython",
    "version": 3
   },
   "file_extension": ".py",
   "mimetype": "text/x-python",
   "name": "python",
   "nbconvert_exporter": "python",
   "pygments_lexer": "ipython3",
   "version": "3.9.13"
  }
 },
 "nbformat": 4,
 "nbformat_minor": 2
}
