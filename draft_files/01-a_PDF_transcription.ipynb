{
 "cells": [
  {
   "cell_type": "code",
   "execution_count": 1,
   "metadata": {},
   "outputs": [],
   "source": [
    "#Import libraries\n",
    "import fitz \n",
    "import os"
   ]
  },
  {
   "cell_type": "code",
   "execution_count": 2,
   "metadata": {},
   "outputs": [],
   "source": [
    "#Define path\n",
    "pdf_path = 'raw_data/noticias3.pdf'"
   ]
  },
  {
   "cell_type": "code",
   "execution_count": 3,
   "metadata": {},
   "outputs": [],
   "source": [
    "#Function to read pdf\n",
    "def extract_text_from_pdf(pdf_path):\n",
    "    \"\"\"\n",
    "    Extract text from a PDF file using PyMuPDF (fitz).\n",
    "\n",
    "    :param pdf_path: Path to the PDF file.\n",
    "    :return: Extracted text from the PDF.\n",
    "    \"\"\"\n",
    "    # Open the PDF file\n",
    "    doc = fitz.open(pdf_path)\n",
    "\n",
    "    # Initialize an empty string to hold the extracted text\n",
    "    text = []\n",
    "\n",
    "    # Iterate over all the pages in the PDF\n",
    "    for page_num in range(doc.page_count):\n",
    "        # Load the current page\n",
    "        page = doc.load_page(page_num)\n",
    "\n",
    "        # Extract the text from the page\n",
    "        page_text = page.get_text(\"text\")\n",
    "\n",
    "        # Append the text of the current page to the list\n",
    "        text.append(page_text)\n",
    "\n",
    "    # Close the PDF document\n",
    "    doc.close()\n",
    "\n",
    "    # Join the list into a single string and return the extracted text\n",
    "    return ''.join(text)\n",
    "\n",
    "# Example of calling the function\n",
    "pdf_text = extract_text_from_pdf(pdf_path)"
   ]
  },
  {
   "cell_type": "code",
   "execution_count": 4,
   "metadata": {},
   "outputs": [],
   "source": [
    "#Save the transcription\n",
    "def save_pdf_transcription(text, output_folder='processed_data', output_filename='pdf3_text.txt'):\n",
    "    \"\"\"\n",
    "    Saves the extracted text from a PDF to a text file.\n",
    "    \n",
    "    :param text: The extracted text to be saved.\n",
    "    :param output_folder: The folder where the output file will be saved (default is 'processed_data').\n",
    "    :param output_filename: The name of the output file (default is 'pdf_text.txt').\n",
    "    \"\"\"\n",
    "    # Ensure the output folder exists\n",
    "    os.makedirs(output_folder, exist_ok=True)\n",
    "    \n",
    "    # Construct the full path to the output file\n",
    "    output_path = os.path.join(output_folder, output_filename)\n",
    "    \n",
    "    # Save the extracted text to the file\n",
    "    with open(output_path, 'w', encoding='utf-8') as file:\n",
    "        file.write(text)\n",
    "\n",
    "# Example usage\n",
    "save_pdf_transcription(pdf_text)\n"
   ]
  },
  {
   "cell_type": "code",
   "execution_count": 21,
   "metadata": {},
   "outputs": [],
   "source": [
    "# Read pdf with PDFPlumber\n",
    "#def extract_text_from_pdf(pdf_path):\n",
    "    #text = \"\"\n",
    "    #with pdfplumber.open(pdf_path) as pdf:\n",
    "        #for page in pdf.pages:\n",
    "            #text += page.extract_text()\n",
    "   # return text\n",
    "\n",
    "#pdf_plumber_text = extract_text_from_pdf(pdf_path)\n",
    "#print(pdf_plumber_text)"
   ]
  },
  {
   "cell_type": "code",
   "execution_count": 22,
   "metadata": {},
   "outputs": [],
   "source": [
    "# Save the pdf transcription\n",
    "#with open(os.path.join('processed_data', 'pdf_plumber_text.txt'), 'w') as file:\n",
    "    #file.write(pdf_plumber_text)"
   ]
  },
  {
   "cell_type": "code",
   "execution_count": null,
   "metadata": {},
   "outputs": [],
   "source": []
  },
  {
   "cell_type": "code",
   "execution_count": null,
   "metadata": {},
   "outputs": [],
   "source": []
  }
 ],
 "metadata": {
  "kernelspec": {
   "display_name": "venv",
   "language": "python",
   "name": "python3"
  },
  "language_info": {
   "codemirror_mode": {
    "name": "ipython",
    "version": 3
   },
   "file_extension": ".py",
   "mimetype": "text/x-python",
   "name": "python",
   "nbconvert_exporter": "python",
   "pygments_lexer": "ipython3",
   "version": "3.9.13"
  }
 },
 "nbformat": 4,
 "nbformat_minor": 2
}
