{
 "cells": [
  {
   "cell_type": "code",
   "execution_count": 2,
   "metadata": {},
   "outputs": [],
   "source": [
    "#Importamos librerias\n",
    "import requests\n",
    "from bs4 import BeautifulSoup \n",
    "from datetime import date"
   ]
  },
  {
   "cell_type": "markdown",
   "metadata": {},
   "source": [
    "1 - WEB SCRAPPING \"https://edition.cnn.com/\" - NOTICIA PARTICULAR"
   ]
  },
  {
   "cell_type": "code",
   "execution_count": 2,
   "metadata": {},
   "outputs": [
    {
     "name": "stdout",
     "output_type": "stream",
     "text": [
      "2024/09/05\n"
     ]
    }
   ],
   "source": [
    "#Creamos una variable con la fecha de hoy\n",
    "today = date.today()\n",
    "d = today.strftime(\"20%y/%m/%d\")\n",
    "print(d)"
   ]
  },
  {
   "cell_type": "code",
   "execution_count": 3,
   "metadata": {},
   "outputs": [],
   "source": [
    "#Guardamos la url a scrapear\n",
    "#cnn_url = \"https://edition.cnn.com/{}/middleeast/israel-general-strike-hostage-deal-intl-hnk/index.html\".format(d)\n",
    "cnn_url = \"https://edition.cnn.com/2024/09/02/middleeast/israel-general-strike-hostage-deal-intl-hnk/index.html\""
   ]
  },
  {
   "cell_type": "code",
   "execution_count": 4,
   "metadata": {},
   "outputs": [],
   "source": [
    "# Realizamos la request\n",
    "html = requests.get(cnn_url)\n",
    "\n",
    "# Parseamos el codigo html con Beautiful soup\n",
    "if html.status_code == 200:\n",
    "    soup = BeautifulSoup(html.content,'lxml')\n",
    "else:\n",
    "    print(f\"No se puede acceder a la pagina: {cnn_url}\")"
   ]
  },
  {
   "cell_type": "code",
   "execution_count": 5,
   "metadata": {},
   "outputs": [
    {
     "name": "stdout",
     "output_type": "stream",
     "text": [
      "Titulo:\n",
      "      Netanyahu defiant as protesters demanding a ceasefire-for-hostages deal bring Israel to a halt\n",
      "    \n"
     ]
    }
   ],
   "source": [
    "#Extraemos todos los titulos\n",
    "for title in soup.find_all(\"h1\"):\n",
    "    print(\"Titulo:{}\".format(title.text))"
   ]
  },
  {
   "cell_type": "code",
   "execution_count": 6,
   "metadata": {},
   "outputs": [
    {
     "name": "stdout",
     "output_type": "stream",
     "text": [
      "Subtitulo:\n",
      "        ‘Netanyahu has made it impossible’\n",
      "\n",
      "Subtitulo:\n",
      "        Strike hits public services, schools\n",
      "\n"
     ]
    }
   ],
   "source": [
    "#Extraemos todos los subtitulos\n",
    "for sub_title in soup.find_all(\"h2\"):\n",
    "    print(\"Subtitulo:{}\".format(sub_title.text))"
   ]
  },
  {
   "cell_type": "code",
   "execution_count": 7,
   "metadata": {},
   "outputs": [
    {
     "name": "stdout",
     "output_type": "stream",
     "text": [
      "Hundreds of thousands of protesters took to Israel’s streets in fresh fury on Monday over the government’s failure to secure a ceasefire-for-hostages deal with Hamas. Demonstrations could be seen in Jerusalem, Tel Aviv, Caesarea and other sites across the country, fueled by the killing in Gaza of six hostages, whose bodies were retrieved by Israeli soldiers this weekend.\n",
      "Several gatherings targeted the homes of Prime Minister Benjamin Netanyahu, with protesters lighting fires and chanting: “You are the leader - you are guilty!” near one of Netanyahu’s private residences in Caesarea. In Tel Aviv, protesters outside the US Embassy chanted “Shame!” late into the evening, video showed.\n",
      "Netanyahu has been accused of stalling efforts for a deal by some hostage families and their supporters. More than 100 hostages, including 35 believed to be dead, are still being held in Gaza – the vast majority of them taken during Hamas’ October 7 attack on Israel, when some 1,200 people were killed and more than 200 taken captive\n",
      "The scenes outside the Israeli leader’s homes culminated a day of anger that brought much of the country to a halt, following a call by the country’s largest labor union, known as Histadrut, to shut down the“entire”economy. Flights in and out of Tel Aviv’s Ben Gurion International Airport were also stopped for two hours.\n",
      "But in a press conference Monday evening, the Israeli leader struck a note of defiance, batting away criticisms – including from US President Joe Biden – that he is not doing enough to secure a deal. He asked for “forgiveness” from the families of the six hostages for failing to bring them back alive, but insisted it should be Hamas that “has to make the concessions.”\n",
      "He also vowed to retaliate and extract a “heavy price” from the militant group that controls Gaza, for the killing of the six hostages, whose autopsies showed they were shot at short range on Thursday or Friday morning.\n",
      "Hamas meanwhile escalated its own threats on Monday, with a public warning that more hostages held in Gaza would return “inside coffins” if Israel attempts to free them militarily.\n",
      "A statement released by the militant group said that its fighters guarding prisoners held in the Palestinian enclave had received “new instructions” on how to deal with hostages if Israeli forces get close, and released an illustrated poster apparently showing hostages threatened with a gun.\n",
      "Monday saw the largest general strike to have taken place in Israel since March 2023, when there was a similarmass walkoutover Netanyahu’s controversial attempts to overhaul the country’s judiciary.\n",
      "According to union Histadrut, hundreds of thousands of Israelis joined the protests Monday, just a day after half a million took to the streets on Sunday for what protest organizers said was one of the biggest nationwide protests since the outbreak of Israel’s war on Hamas. Israeli police said they had seven demonstrators in Tel Aviv for “violating public order and disrupting traffic.”\n",
      "Netanyahu’s defiant stance following the discovery of the six hostage bodies has thrown further doubt on the negotiations for a ceasefire-for-hostages deal.\n",
      "Even before the killing of the six hostages, the talks had become bogged down, with one key disagreement centering on control of a border area known as the Philadelphi corridor.\n",
      "Netanyahu says control of the 14-kilometer (8.7-mile) strip of land along Gaza’s border with Egypt is needed to prevent Hamas from resuming arms smuggling through tunnels underneath it. However, the deployment of Israeli troops along the corridor has been a major point of contention between Israel and Hamas in the ceasefire talks, with Hamas saying Israeli troops must withdraw from the border zone.\n",
      "“Hamas doesn’t want us to be there and that’s why I insist on being there,” the Israeli leader said on Monday.\n",
      "During a cabinet meeting over the weekend, Israeli Defense Minister Yoav Gallant had lambasted the Israeli government for what he said was prioritizing control of the corridor over a deal to free hostages, calling it a “moral disgrace.”\n",
      "The relative of one of the hostages who was shot dead in southern Gaza also blamed Netanyahu and his stance on the corridor for their deaths. Gil Dickmann, the cousin of Carmel Gat, told CNN that the Israeli government “cold-bloodedly” crossed a “red line” by prioritizing the corridor over the lives of the hostages.\n",
      "“We know that Hamas has agreed to a deal at some point, and Israel was the one putting on more and more terms and actually postponing the deal,” Dickmann said on Monday. “Right now, we know the decisions that our Prime Minister Netanyahu has made it impossible for Carmel and other hostages to return and put their lives in great danger, and that’s what killed them.”\n",
      "But on Monday, even as he acknowledged dissent within his cabinet, Netanyahu doubled down.\n",
      "“We’re not going to withdraw from the Philadelphi corridor,” Netanyahu told a press conference on Monday evening. “The axis of evil needs the Philadelphi corridor. We need to have it under our control,” he said.\n",
      "Disagreements over the corridor are only one of the splits within the cabinet over the conduct of the war that have become increasingly public and rancorous in recent months, reflecting deep divisions at the top of Israel’s government.\n",
      "Just on Monday, Israel’s far-right National Security Minister Itamar Ben-Gvir said he was using his power to prevent a “reckless deal” and ensure “that there will be no negotiations at all.”\n",
      "He was speaking to members of Gvura, a right-wing organization representing the families of Israeli soldiers killed in Gaza.\n",
      "But American officials described new urgency in reaching a ceasefire-for-hostages deal. US national security adviser Jake Sullivan said while meeting the families of Americans held hostage that “the next few days will be critical” in the push to free those still held by Hamas.\n",
      "Alongside the strikes, the funeral of Hersh Goldberg-Polin, one of the six hostages found dead, was held in Jerusalem on Monday. Speaking at the ceremony, Jon Goldberg-Polin said he hoped his son’s death would be “the fuel that will bring home the remaining 101 hostages.”\n",
      "“Hersh, we failed you. We all failed you. You would not have failed you. You would have pushed harder for justice,” he said. “You would have worked to understand the other, to bridge differences.”\n",
      "“The 23 years of life that we had with you were a blessing. We now will work to make your legacy a similar blessing,” Goldberg-Polin said. “You were a really great guy. I love you.”\n",
      "As well as an impact on flights, some Israeli municipalities said they joined the strike, including Tel Aviv and Haifa, according to a list from the Histadrut outlining who joined the action as well as statements from some of the cities.\n",
      "The list also includes government ministries that impact a wide range of public services, the document shows, including parts of the Prime Minister’s Office, the Interior Ministry, and others. CNN has reached out to the Prime Minister’s Office for comment.\n",
      "Hospitals and healthcare facilities worked on a weekend schedule and on an emergency basis, according to the statement.\n",
      "The country’s teachers’ union said it would not join the strike, according to a statement from the union, though support staff at schools did.\n",
      "However, Israel’s biggest universities joined the strike, including the Hebrew University of Jerusalem and Tel Aviv University.\n"
     ]
    }
   ],
   "source": [
    "#Extraemos todos los parrafos del articulo - sin subtitulos\n",
    "article_text = soup.find_all(\"p\",class_= \"paragraph inline-placeholder vossi-paragraph-primary-core-light\")\n",
    "#article_text = soup.find_all(\"div\", class_ = \"article__content-container\")\n",
    "\n",
    "for paragraph in article_text:\n",
    "    print(paragraph.get_text(strip=True))"
   ]
  },
  {
   "cell_type": "code",
   "execution_count": 8,
   "metadata": {},
   "outputs": [
    {
     "name": "stdout",
     "output_type": "stream",
     "text": [
      "CNN—Hundreds of thousands of protesters took to Israel’s streets in fresh fury on Monday over the government’s failure to secure a ceasefire-for-hostages deal with Hamas. Demonstrations could be seen in Jerusalem, Tel Aviv, Caesarea and other sites across the country, fueled by the killing in Gaza of six hostages, whose bodies were retrieved by Israeli soldiers this weekend.Several gatherings targeted the homes of Prime Minister Benjamin Netanyahu, with protesters lighting fires and chanting: “You are the leader - you are guilty!” near one of Netanyahu’s private residences in Caesarea. In Tel Aviv, protesters outside the US Embassy chanted “Shame!” late into the evening, video showed.President Joe Biden and his son Hunter Biden depart a church after attending Mass in Solvang, California, on August 24.Craig Hudson/ReutersRelated articleBiden and Netanyahu at odds again after US president says Israeli PM not doing enough in ceasefire-hostage release talksNetanyahu has been accused of stalling efforts for a deal by some hostage families and their supporters. More than 100 hostages, including 35 believed to be dead, are still being held in Gaza – the vast majority of them taken during Hamas’ October 7 attack on Israel, when some 1,200 people were killed and more than 200 taken captiveThe scenes outside the Israeli leader’s homes culminated a day of anger that brought much of the country to a halt, following a call by the country’s largest labor union, known as Histadrut, to shut down the“entire”economy. Flights in and out of Tel Aviv’s Ben Gurion International Airport were also stopped for two hours.But in a press conference Monday evening, the Israeli leader struck a note of defiance, batting away criticisms – including from US President Joe Biden – that he is not doing enough to secure a deal. He asked for “forgiveness” from the families of the six hostages for failing to bring them back alive, but insisted it should be Hamas that “has to make the concessions.”Israeli Prime Minister Benjamin Netanyahu speaks during a news conference in Jerusalem on September 2, 2024.Ohad Zwigenberg/POOL/AFP/Getty ImagesHe also vowed to retaliate and extract a “heavy price” from the militant group that controls Gaza, for the killing of the six hostages, whose autopsies showed they were shot at short range on Thursday or Friday morning.Hamas meanwhile escalated its own threats on Monday, with a public warning that more hostages held in Gaza would return “inside coffins” if Israel attempts to free them militarily.A statement released by the militant group said that its fighters guarding prisoners held in the Palestinian enclave had received “new instructions” on how to deal with hostages if Israeli forces get close, and released an illustrated poster apparently showing hostages threatened with a gun.Passengers wait for flights at Ben Gurion Airport in Tel Aviv during a nationwide strike on September 2, 2024.Gil Cohen-Magen/AFP/Getty ImagesMonday saw the largest general strike to have taken place in Israel since March 2023, when there was a similarmass walkoutover Netanyahu’s controversial attempts to overhaul the country’s judiciary.According to union Histadrut, hundreds of thousands of Israelis joined the protests Monday, just a day after half a million took to the streets on Sunday for what protest organizers said was one of the biggest nationwide protests since the outbreak of Israel’s war on Hamas. Israeli police said they had seven demonstrators in Tel Aviv for “violating public order and disrupting traffic.”‘Netanyahu has made it impossible’Netanyahu’s defiant stance following the discovery of the six hostage bodies has thrown further doubt on the negotiations for a ceasefire-for-hostages deal.Even before the killing of the six hostages, the talks had become bogged down, with one key disagreement centering on control of a border area known as the Philadelphi corridor.Netanyahu says control of the 14-kilometer (8.7-mile) strip of land along Gaza’s border with Egypt is needed to prevent Hamas from resuming arms smuggling through tunnels underneath it. However, the deployment of Israeli troops along the corridor has been a major point of contention between Israel and Hamas in the ceasefire talks, with Hamas saying Israeli troops must withdraw from the border zone.“Hamas doesn’t want us to be there and that’s why I insist on being there,” the Israeli leader said on Monday.During a cabinet meeting over the weekend, Israeli Defense Minister Yoav Gallant had lambasted the Israeli government for what he said was prioritizing control of the corridor over a deal to free hostages, calling it a “moral disgrace.”The relative of one of the hostages who was shot dead in southern Gaza also blamed Netanyahu and his stance on the corridor for their deaths. Gil Dickmann, the cousin of Carmel Gat, told CNN that the Israeli government “cold-bloodedly” crossed a “red line” by prioritizing the corridor over the lives of the hostages.“We know that Hamas has agreed to a deal at some point, and Israel was the one putting on more and more terms and actually postponing the deal,” Dickmann said on Monday. “Right now, we know the decisions that our Prime Minister Netanyahu has made it impossible for Carmel and other hostages to return and put their lives in great danger, and that’s what killed them.”But on Monday, even as he acknowledged dissent within his cabinet, Netanyahu doubled down.“We’re not going to withdraw from the Philadelphi corridor,” Netanyahu told a press conference on Monday evening. “The axis of evil needs the Philadelphi corridor. We need to have it under our control,” he said.Disagreements over the corridor are only one of the splits within the cabinet over the conduct of the war that have become increasingly public and rancorous in recent months, reflecting deep divisions at the top of Israel’s government.Just on Monday, Israel’s far-right National Security Minister Itamar Ben-Gvir said he was using his power to prevent a “reckless deal” and ensure “that there will be no negotiations at all.”He was speaking to members of Gvura, a right-wing organization representing the families of Israeli soldiers killed in Gaza.But American officials described new urgency in reaching a ceasefire-for-hostages deal. US national security adviser Jake Sullivan said while meeting the families of Americans held hostage that “the next few days will be critical” in the push to free those still held by Hamas.Alongside the strikes, the funeral of Hersh Goldberg-Polin, one of the six hostages found dead, was held in Jerusalem on Monday. Speaking at the ceremony, Jon Goldberg-Polin said he hoped his son’s death would be “the fuel that will bring home the remaining 101 hostages.”“Hersh, we failed you. We all failed you. You would not have failed you. You would have pushed harder for justice,” he said. “You would have worked to understand the other, to bridge differences.”“The 23 years of life that we had with you were a blessing. We now will work to make your legacy a similar blessing,” Goldberg-Polin said. “You were a really great guy. I love you.”Strike hits public services, schoolsAs well as an impact on flights, some Israeli municipalities said they joined the strike, including Tel Aviv and Haifa, according to a list from the Histadrut outlining who joined the action as well as statements from some of the cities.The list also includes government ministries that impact a wide range of public services, the document shows, including parts of the Prime Minister’s Office, the Interior Ministry, and others. CNN has reached out to the Prime Minister’s Office for comment.Hospitals and healthcare facilities worked on a weekend schedule and on an emergency basis, according to the statement.Israeli protestors block the Ayalon freeway during a mass protest in Tel Aviv, Israel on September 1, 2024.David Silverman/Getty ImagesThe country’s teachers’ union said it would not join the strike, according to a statement from the union, though support staff at schools did.However, Israel’s biggest universities joined the strike, including the Hebrew University of Jerusalem and Tel Aviv University.CNN’s Lauren Izso, Tara John, Michael Rios, Eugenia Yosef, Duarte Mendonca, Jo Shelley, Chris Liakos and Kaitlin Collins contributed reporting.\n"
     ]
    }
   ],
   "source": [
    "#Extraemos todo el texto del contenedor del articulo - contiene subtitulos\n",
    "article_text = soup.find_all(\"div\", class_ = \"article__content-container\")\n",
    "for paragraph in article_text:\n",
    "    print(paragraph.get_text(strip=True))"
   ]
  },
  {
   "cell_type": "markdown",
   "metadata": {},
   "source": [
    "2 - WEB SCRAPPING \"https://www.nbcnews.com/\" - TODAS LAS NOTICIAS DE UNA TEMÁTICA PARTICULAR"
   ]
  },
  {
   "cell_type": "code",
   "execution_count": 9,
   "metadata": {},
   "outputs": [],
   "source": [
    "nbc_url = \"https://www.nbcnews.com/world/russia-ukraine-news\"\n",
    "html_nbc = requests.get(nbc_url)\n",
    "\n",
    "# Parseamos el codigo html con Beautiful soup\n",
    "if html_nbc.status_code == 200:\n",
    "   soup_nbc = BeautifulSoup(html_nbc.content,\"lxml\")\n",
    "else:\n",
    "    print(f\"No se puede acceder a la pagina: {nbc_url}\")\n"
   ]
  },
  {
   "cell_type": "code",
   "execution_count": 10,
   "metadata": {},
   "outputs": [
    {
     "name": "stdout",
     "output_type": "stream",
     "text": [
      "Freewheeling Putin opines on Kamala Harris' laugh and Russia’s ‘sacred duty’\n",
      "Ukraine launches major leadership 'reboot'\n"
     ]
    },
    {
     "data": {
      "text/plain": [
       "['https://www.nbcnews.com/news/world/putin-support-kamala-harris-ukraine-incursion-failed-russia-kursk-rcna169681',\n",
       " 'https://www.nbcnews.com/news/world/ukraine-foreign-minister-resigns-government-reshuffle-war-russia-rcna169487']"
      ]
     },
     "execution_count": 10,
     "metadata": {},
     "output_type": "execute_result"
    }
   ],
   "source": [
    "#Extraemos todos los subtitulos h2 de clase identificada #1\n",
    "#Imprimimos los links asociados\n",
    "\n",
    "links_1 = []\n",
    "\n",
    "for nbc_sub_title in soup_nbc.find_all(\"h2\", class_=\"multistoryline__headline founders-cond fw6 large noBottomSpace\"):\n",
    "    links_1.append(nbc_sub_title.a[\"href\"])\n",
    "    print(nbc_sub_title.text)\n",
    "\n",
    "links_1\n"
   ]
  },
  {
   "cell_type": "code",
   "execution_count": 11,
   "metadata": {},
   "outputs": [
    {
     "data": {
      "text/plain": [
       "[]"
      ]
     },
     "execution_count": 11,
     "metadata": {},
     "output_type": "execute_result"
    }
   ],
   "source": [
    "#Extraemos todos los subtitulos h3 de clase identificada #2\n",
    "#Imprimimos los links asociados\n",
    "\n",
    "links_2 = []\n",
    "\n",
    "for nbc_sub_title in soup_nbc.find_all(\"h3\", class_=\"styles_baconCardsWidthByOneHeader__nU9wz styles_noEyebrow__bShzL\"):\n",
    "    links_2.append(nbc_sub_title.a[\"href\"])\n",
    "    print(nbc_sub_title.text)\n",
    "    \n",
    "links_2"
   ]
  },
  {
   "cell_type": "code",
   "execution_count": 12,
   "metadata": {},
   "outputs": [
    {
     "name": "stdout",
     "output_type": "stream",
     "text": [
      "More than 50 killed in Russian missile strike on Ukrainian military facility\n",
      "Zelenskyy says Ukraine plans to indefinitely hold seized Russian territory\n",
      "Putin arrives in Mongolia in first visit to ICC member state since arrest warrant\n",
      "Russia fires a barrage of drones and ballistic missiles at Kyiv as Ukraine's children return to school\n",
      "Apalachee High School student after shooting: 'There's no safety'\n",
      "U.S. indicts two Russians for allegedly being foreign agents\n",
      "Why a baking YouTuber chose to speak out about MrBeast, the internet's biggest creator\n",
      "Chinese agent case in New York is a 'classic' Beijing spy effort, experts say\n",
      "Zelenskyy on captured Russian territory: ‘ We don’t need their land’\n",
      "Zelenskyy vows victory after ‘pre-emptive strike’ in Russia’s Kursk region\n",
      "'Another tragedy in Ukraine': Zelenskyy speaks about Russian strike in Poltava\n",
      "Zelenskyy says Ukraine plans to hold its seized Russian territory\n"
     ]
    },
    {
     "data": {
      "text/plain": [
       "['https://www.nbcnews.com/news/world/russian-missile-strike-ukraine-poltava-zelenskyy-rcna169288',\n",
       " 'https://www.nbcnews.com/news/world/zelenskyy-ukraine-russia-territory-seized-putin-kursk-rcna169280',\n",
       " 'https://www.nbcnews.com/news/world/putin-arrives-mongolia-first-visit-icc-member-state-arrest-warrant-rcna169265',\n",
       " 'https://www.nbcnews.com/news/world/russia-fires-barrage-drones-ballistic-missiles-kyiv-ukraines-children-rcna169202',\n",
       " 'https://www.today.com/video/apalachee-high-school-student-and-parent-speak-out-on-shooting-218659397731',\n",
       " 'https://www.nbcnews.com/nightly-news/video/u-s-indicts-two-russians-for-allegedly-being-foreign-agents-218623557725',\n",
       " 'https://www.nbcnews.com/tech/internet/baking-mrbeast-meet-youtuber-taking-platforms-biggest-creator-rcna168610',\n",
       " 'https://www.nbcnews.com/investigations/chinese-agent-case-new-york-classic-beijing-spy-effort-experts-say-rcna169506',\n",
       " 'https://www.today.com/video/zelenskyy-on-captured-russian-territory-we-don-t-need-their-land-218572357993',\n",
       " 'https://www.nbcnews.com/video/zelenskyy-vows-victory-after-pre-emptive-strike-in-russia-s-kursk-region-218549829778',\n",
       " 'https://www.nbcnews.com/video/zelenskyy-speaks-about-russian-strike-in-poltava-218509381938',\n",
       " 'https://www.nbcnews.com/video/zelenskyy-says-ukraine-plans-to-hold-its-seized-russian-territory-218508869715']"
      ]
     },
     "execution_count": 12,
     "metadata": {},
     "output_type": "execute_result"
    }
   ],
   "source": [
    "#Extraemos todos los subtitulos h3 de clase identificada #3\n",
    "#Imprimimos los links asociados\n",
    "\n",
    "links_3 = []\n",
    "\n",
    "for nbc_sub_title in soup_nbc.find_all(\"h2\", class_=\"styles_headline__ice3t\"):\n",
    "    links_3.append(nbc_sub_title.a[\"href\"])\n",
    "    print(nbc_sub_title.text)\n",
    "    \n",
    "links_3"
   ]
  },
  {
   "cell_type": "code",
   "execution_count": 13,
   "metadata": {},
   "outputs": [
    {
     "name": "stdout",
     "output_type": "stream",
     "text": [
      "\n",
      "Sept. 3, 2024, 11:56 AM UTC/UpdatedSept. 3, 2024, 10:51 PM UTCByYuliya TalmazanAt least 51 people were killed and more than 200 injured Tuesday in aRussian missile strike on a military training facility and nearby hospital in central Ukraine, officials in the country said.Two ballistic missiles hit an “educational institution” and a nearby hospital in the city of Poltava, 190 miles southeast of Kyiv, the capital, President Volodymyr Zelenskyy said in a video post on the Telegram messaging app. He added that one of the buildings of the Poltava Military Institute of Communication was partially destroyed.Zelenskyysaid in a statementthat 51 people were killed and 271 were injured.NBC News was able to geolocate a video showing bomb damage to the 179th Training Center of Signal Forces for the Ukrainian Armed Forces in Poltava.A photo circulating on social media that was also geolocated to the center showed the bodies of at least five people in military uniforms lying among the rubble; one person lies in a pool of blood and is missing a hand.The facility had been targeted with two Iskander-M ballistic missiles, the statement said. “Rescuers, an investigative and operational group and other services are working on the site, and the clearing of the debris is ongoing,” it added.NBC News could not independently verify the death toll or the type of weapons used. Russia has not commented on the incident, but some of the country's influential military bloggers had reported a deadly strike on a military site hours before the Ukrainian announcement.It appears to be one of the deadliest strikes on Ukraine since the beginning of the war some 2½ years ago.A missile attack on Kyiv in Julyalso killed 41 people.“Poltava is experiencing a terrible day today,” the Ukrainian Defense Ministry said in a statement Tuesday, adding that “one of the city’s educational institutions” was hit.“The time interval between the alarm and the arrival of the deadly missiles was so short that it caught people at the moment of evacuation to the bomb shelter,” it added.Some people were trapped under the rubble, Zelenskyy said, but many were rescued.“I have ordered a full and prompt investigation into all the circumstances of what happened,” he said. “All necessary services are involved in the rescue operation.”Interior Minister Ihor Klymenkosaid in a separate post that rescuers had contained the fire and were continuing to clear the rubble, adding that 11 people were pulled from under the debris.Yuliya TalmazanYuliya Talmazan is a reporter for NBC News Digital, based in London.Caroline Radnofskycontributed.\n",
      "\n",
      "Sept. 3, 2024, 4:40 PM UTC/UpdatedSept. 3, 2024, 7:21 PM UTCByRichard Engel,Gabe JoselowandYuliya TalmazanKYIV, Ukraine —Ukrainian President Volodymyr Zelenskyytold NBC News on Tuesday that Kyiv is planning to indefinitely holdRussian territories it seized in a surprise incursion last monthas it tries to forcePresident Vladimir Putinto the negotiating table.“We don’t need their land. We don’t want to bring our Ukrainian way of life there,” he said during his first one-on-one interview since Ukraine’s high-stakes incursion into Russia.Ukraine will “hold” the territory as it is integral to his “victory plan” to end the the war, Zelenskyy said, adding he will present the proposal to international partners like the United States.“For now, we need it,” he said of the territory Ukraine is now holding in Russia.Nearly a month ago,Ukrainian troops swept into Russia’s Kurskregion in a secret operation that has challenged the status quo of the two-and-a-half-year-old war. Kyiv now claims it controls nearly500 square miles of Russian territoryand has taken hundreds of Russian prisoners of war.The Aug. 6 incursion was “a pre-emptive strike” to stop the Russians from creating a buffer zone along Ukraine’s border, Zelenskyy said. With Kyiv intensifying its attacks on Russian border regions, Putin has vowed to take Ukrainian border territory to stop the assaults.Zelenskyy said he couldn't discuss whether Ukraine planned to try to seize more Russian territory.Ukraine’s military released video on Aug. 7 that it says shows the surrender of Russian troops in Kursk. NBC New has not independently verified the footage.Ukrainian Military“I will not tell, I’m sorry,” he said. “With all respect, I can’t speak about it. I think the success is very close to surprise.”Zelenskyy also told NBC News that the Biden administration was not aware of plans to cross over into Russia ahead of time as it was a closely guarded secret even inside Ukraine.Washington has repeatedly said it was not in on Kyiv’s plans for Kursk.“Yes, we did not inform anyone. And it’s not the question of lack of trust,” Zelenskyy said, adding thatKyiv’s counteroffensive last summerfailed in many ways because of how much it was advertised and talked about, which gave Russians a chance to prepare.This time, even Ukrainian intelligence services did not know, he said.“I shrunk to the maximum the circle of people who knew about this operation,” Zelenskyy added. “I think it was one of the reasons why it was successful.”\n",
      "Ukrainian President Volodymyr Zelenskyy speaking to NBC News in Kyiv on Tuesday.Ted Turner / NBC News\n",
      "The Kremlin has tried to maintain a semblance of control in the face of the incursion, saying Kyiv's forces are suffering from unusually heavy losses. So far, though, Russia hasfailed to push the Ukrainians out of its territory.Despite what is widely seen as Ukraine's success in Russia, it continues to lose ground in its east, where the Kremlin's forces are inching closer to taking the key logistics hub of Pokrovsk and neighboring Toretsk in the Donetsk region.One of the goals of the incursion, Zelenskyy said, was to force Moscow to pull troops from across the 600-mile front line in Ukraine, in particular in the east. And while he said Russia has diverted 60,000 troops to Kursk from Ukraine, Pokrovsk has not seen a big drop.NBC News could not verify this number.On Monday, Putin said his forces in the east have been advancing faster than they have done for a long time.So now, more than 30 months since his invasion, Moscow still controls about a fifth of Ukraine's territory, having illegally annexed large portions of it. Ukrainian cities and villages get bombarded nearly daily, with thelatest strike on the central city of Poltava on Tuesdayclaiming at least 51 lives.With war fatigue growing amidUkraine's struggle to recruit enough manpower to sustain the war,talk of peace negotiations has grown.But Ukraine has insisted it only wants to take part in them from a position of power, which holding Russian territory could help give it. A second peace summit is expected to be held in November —the firstwasin Switzerlandin June— and Zelenskyy told NBC News that representatives from Russia have to be present.“We understand that without the Russian side, ending this war diplomatically is very difficult,” he said.Multiple Russian officials have already said peace negotiations were impossible after Ukraine's invasion of Kursk.Richard Engel and Gabe Joselow reported from Kyiv, and Yuliya Talmazan from London.Richard EngelNBC News Chief Foreign CorrespondentGabe JoselowGabe Joselow is a producer at NBC News.Yuliya TalmazanYuliya Talmazan is a reporter for NBC News Digital, based in London.\n",
      "\n",
      "Sept. 3, 2024, 2:15 AM UTC/Source:The Associated PressByThe Associated PressRussian PresidentVladimir Putinarrived Monday inMongolia, a member of the international court thatissued an arrest warrantfor him.The official visit, in which he is to meet Tuesday with Mongolian leader Ukhnaa Khurelsukh, is Putin’s first to a member country of the International Criminal Court since it issued a warrant for his arrest nearly 18 months ago on charges ofwar crimes in Ukraine.Ukraine has called on Mongolia to arrest Putin and hand him over to the court in The Hague. A spokesperson for Putin said last week that the Kremlin isn’t worried about the visit.Members of the international court are bound to detain suspects if an arrest warrant has been issued, but the court doesn’t have any enforcement mechanism.Mongolia, a sparsely populated country betweenRussiaandChina, is heavily dependent on the former for fuel and electricity and on the latter for investment in its mining industry.The ICC has accused Putin of being responsible for the abductions of children from Ukraine, where the fighting has raged for 2½ years.Putin and the Mongolian leader are to attend a ceremony on Tuesday marking the 1939 victory of Soviet and Mongolian troops over the Japanese army that had taken control of Manchuria in northeastern China. Thousands of soldiers died in months of fighting in a dispute over where the border was between Manchuria and Mongolia.Though Putin has faced international isolation over the invasion of Ukraine, hevisited North KoreaandVietnamin June and has alsovisited China twicein the past year.He joined a meeting in Johannesburg by video link last year after the South African government lobbied against him showing up for the BRICS summit, a group that also includes China and other emerging economies. South Africa is an ICC member.The Associated PressThe Associated Press\n",
      "\n",
      "Sept. 2, 2024, 1:15 PM UTC/Source:The Associated PressByThe Associated PressRussia launched an overnight barrage of drones and cruise and ballistic missiles at Kyiv, officials said Monday, as children prepared to return to school acrossUkraine. Some pupils found classes canceled because of damage from the attack.Several series of explosions rocked the Ukrainian capital in the early hours.Debris from intercepted missiles and drones fell in every district of Kyiv, wounding three people and damaging two kindergartens, Ukraine’s Interior Ministry said.City authorities reported multiple fires.People help an injured man walk out of rubble at a sports facility destroyed in a Russian attack in Kharkiv, Ukraine, on Sunday.Yevhen Titov / APAfter more than 900 days of the war, Russia and Ukraine show no sign of letting up in the fight or moving closer to the negotiating table. Both sides are pursuing ambitious ground offensives, with the Ukrainians driving into Russia’s Kursk region and the Russian army pushing deeper into the Donetsk region of eastern Ukraine that is part of the industrial Donbas region.Russian President Vladimir Putin said Monday that Ukraine’s Kursk assault won’t prevent Russian forces from advancing in eastern Ukraine. Ukrainian forces haven’t achieved their goal of diverting Russian troops from the fighting there, he said.“The main task that the enemy set for themselves — to stop our offensive in Donbas — they haven’t achieved it,” Putin told school students during a trip to southern Siberia.However, Ukraine President Volodymyr Zelenskyy said last month that the aim of the Kursk incursion is to create a buffer zone that might prevent further attacks by Moscow across the border.Putin predicted that Ukraine’s Kursk offensive, which began Aug. 6, will fail and that subsequently Kyiv officials will want “to move to peace talks.”Russia launched 35 missiles of various types and 26 Shahed drones at Ukraine overnight from Sunday to Monday, the Ukrainian air force said. Nine ballistic missiles, 13 cruise missiles and 20 drones were downed, it said.Residents of the capital hurried into the city’s bomb shelters.Oksana Argunova, an 18-year-old student at a Kyiv high school, said that she was still shaking after the nighttime scare.“I woke up, my neighbor was shouting: ‘Let’s go down (to the shelter), there are big explosions.’ We all ran,” Argunova told The Associated Press.Monday was the first day back at school after the summer vacation. In Ukraine, the day involves ceremonies and rituals. Students of all ages and often teachers or parents wear traditional costumes. Celebrations include concerts and dances.Small groups of children and parents gathered outside a damaged Kyiv school as firefighters put out flames and removed rubble.One 39-year-old mother turned up at the school with her 7-year-old daughter, Sophia, unaware it had been hit. It was Sophia’s first day at what for her was a new school, her mother said, after a frightening night.“Of course, the child was scared. We hid in the bathroom, where it was relatively safe,” said the mother, who provided only her first name, Olena.“Today is one of the most important days of the year for millions of our Ukrainian children, families and teachers,” Zelenskyy said on his Telegram channel.“Ukraine is doing everything to give children as many opportunities as possible. And all our schools, all higher education institutions that are working today are proof of the resilience of our people and the strength of Ukraine,” he said.Students watch emergency teams work to extinguish a fire in Kyiv on Monday.Anatolii Stepanov / AFP - Getty ImagesBoth sides are battering each other with regular long-range drone and missile strikes, sometimes launching more than 100 weapons in aerial attacks that suggest they are still pouring resources into weapon production.Russian air defenses intercepted 158 Ukrainian drones overnight, including two over Moscow and nine over the surrounding region, the Defense Ministry said.The Ukrainian headquarters of the Danish humanitarian organization DanChurchAid was destroyed by missile fragments, its head Jonas Nøddekær said.Elsewhere, 18 people were injured in a Sunday evening strike on a center for social and psychological rehabilitation of children and an orphanage in Ukraine’s northeastern city of Sumy, regional authorities said.The regional prosecutor’s office said there were no children in the facility when the strike hit, but people in surrounding residential buildings suffered injuries, including six children.The educational center was partially destroyed and caught fire, and the buildings around it were damaged by the shockwave, State Emergency Services said.An explosion also rang out in Kharkiv, Ukraine’s second-largest city, according to Ukrainian media. Oleh Syniehubov, head of the Kharkiv region, confirmed an early morning strike on Kharkiv’s Industrialnyi district and said it set a residential building and several others on fire.The U.K. Defense Ministry said Sunday that Russian forces accelerated their advance on the key Donetsk stronghold Povkrosk over the past week and are likely within a few miles of the city.There have been no significant changes elsewhere along the more than 600-mile front line, it said.The Associated PressThe Associated Press\n",
      "\n",
      "Sept. 5, 2024, 9:00 AM UTCByAngela YangandChloe MelasLOS ANGELES — The packets of documents strewn across a table in Rosanna Pansino’s office aren’t immediately decipherable — even to someone who has closely followed her crusade against the internet’s most popular creator: MrBeast.Some are heavy with text and marked up with highlighters. Others feature screenshots of social media posts. The most ornate Pansino created herself: a hand-drawn diagram mapping a large and complex network of companies and people Pansino believes are affiliated with MrBeast, one of the most successful and popular content creators in the history of the internet.Over the past month or so, Pansino has aggregated various allegations she says she received about unsafe work conditions during the filming of MrBeast’s upcomingAmazon Prime Video reality show“Beast Games,” which promises an expected 1,000 contestants the chance to win a $5 million cash prize. More recently, she added to her investigation a flurry of other accusations made by others both online and offline.It’s a departure from the lighthearted baking videos that made Pansino, 39, one ofYouTube’s first stars.“I thought maybe I’d retire in a few years, because I’m just in that happy place,” she said, sitting in her living room after organizing her notes. “But it’s really awakened something in me, where, after you hear all these stories and you see everything going on, I can’t in good conscience do nothing.”\n",
      "Rosanna Pansino at her Los Angeles home on Aug. 31.Tracy Nguyen for NBC News\n",
      "A global digital entrepreneur known for hishigh-dollar giveawaysandelaborate challenges, MrBeast, 26, whose real name is Jimmy Donaldson, has amassed more than 313 million YouTube subscribers in 12 years.Much of his popularity comes from his large-scaleYouTube stuntsand ambitiousphilanthropic projects, which have earned him widespread admiration. He maintains a passionate fanbase that continues to grow, although critics have questioned the ethics of building a vast business empire and personal riches from fleeting feel-good content with unclear long-term outcomes.The fight is onPansino makes for an unlikely foil to Donaldson. Standing less than five feet tall, the baking YouTuber with 14.5 million subscribers is best known for the cheery videos that she’s made for more than a decade. Her severe dyslexia sometimes trips her up while speaking or perusing her notes, but those moments of frustration don’t temper her gregarious personality.Far from the kind of drama that some creators court, Pansino has quietly built a successful brand through her long-running “geeky” online cooking show “Nerdy Nummies,” her baking product line, as well as her cookbooks and occasional film and TV gigs, such as the baking show shehosted on HBO Max. Family-friendly baking content is what viewers turn to her for — and it’s still what she loves to do.But sincespeaking outon X aboutnumerous accusationsshe says she’s collected regardingunsafe working conditionsduring a promotional shoot for Donaldson’s “Beast Games,” Pansino said she feels she’s become an advocate for people who have worked under him — whether in his latest competition show or as an employee.Fans look on during the MrBeast Feastables launch on June 26 in Sydney.Don Arnold / WireImage via Getty Images fileAlthough she has circulated many of the “Beast Games” allegations online, Pansino was not personally at the shoot. NBC News spoke to six former contestants, five of whom asked to remain anonymous for fear of retaliation. They said there wasn’t enough food on set and that they witnessed medics responding to a contestant who appeared to pass out.One contestant, William, who asked to be identified by his first name only, said he and others got “trampled” during the shoot. He said he saw Donaldson upset trying to get people food and water, noting that “he did try to do what he can. I feel like people are painting it that he did this like maliciously but at the end of the day I feel like everybody was woefully unprepared.”Pansino said she’s known Donaldson for about five years and has worked on multiple projects with him, including attempts at business ventures together. Sheparticipated inthree installments of his Creator Games series, a YouTube original production that filmed various internet personalities competing against each other for a cash prize.The creator first publicly criticized Donaldson in October last year, when sheaccused him of editing her outof the top three finalists in Creator Games 3. The story drew in online harassment that quickly escalated into death threats.Within days, she wrote in a text to Donaldson that she would be deleting all her posts \"and will make an apology. Nothing in the world is worth mine and my family’s safety.” In a now-deleted statement on X, Pansino publicly apologized to Donaldson and announced that she had removed her posts about the situation.Still, Pansino said she stands by her original comments.\n",
      "Rosanna Pansino's YouTube Play Button at her Los Angeles home on Aug. 31.Tracy Nguyen for NBC News\n",
      "She decided to speak out against Donaldson again this year, this time airing her concerns about “Beast Games” after a stream of contestants messaged her about their experiences. Days after her initial posts drew attention,The New York Times, which interviewed more than a dozen anonymous contestants, reported on several allegations of injuries on set as well as inadequate access to food and medical care.A spokesperson for Donaldson told NBC News that this first shoot, which included 2,000 participants, was “unfortunately complicated by the CrowdStrike incident, extreme weather, and other unexpected logistical and communications issues” that the team is currently reviewing.A liaison for hundredsDespite Donaldson’s online fame, the YouTube star had never confronted serious or lasting backlash throughout his yearslong reign on the platform. In recent months, however, he has faced awhirlwind of controversy— first involving his former collaborator Ava Kris Tyson’s allegedinappropriate messagesto a minor (which Tyson and the alleged victim, who is no longer a minor, have denied), then due to the allegations around the shooting of “Beast Games.”And around the time Pansino began posting about “Beast Games,” several alleged ex-employees of Donaldson — including former MrBeast writerJake Weddleand YouTuber Dawson French (who goes by the aliasDogPack404) — began uploading their own videos making varied accusations against their alleged former boss.After Weddlespoke about his experiencefilming a video that put him in solitary confinement for days, heclaimed in an updatethat Donaldson apologized and offered $190,000 for the mental stress incurred, displaying a screenshot of the alleged direct message in a video.Mr. Beast on March 9 in Miami.Chris Unger / Zuffa LLC via Getty Images filePansino has spotlighted these voices in her own videos about Donaldson, the most recent of which she uploaded Tuesday. As a highly followed creator, her vocal criticism of him stuck out online as nearly every other top creator remained silent on recent accusations.Pansino said the influx of contestant allegations hit her inbox soon after she called Donaldson out in July,blasting himon X for a 2017 YouTube video that showed him joking about how much he would purchase a Black person for, as well as him using a homophobic slur. Pansino said she was motivated to make the post after seeing an interview in which Donaldson said that he has always made family-friendly content.Last month, a spokesperson for Donaldson told NBC News that the creator was then a teenager who “acted like many kids and used inappropriate language while trying to be funny.”“Over the years he has repeatedly apologized and has learned that increasing influence comes with increased responsibility to be more aware and more sensitive to the power of language,” the spokesperson wrote in a statement.Pansino’s post, which circulated just as filming was wrapping up for the promotional shoot of “Beast Games,” sparked a barrage of messages from contestants who reached out to divulge their own experiences and concerns regarding the shoot.Dozens of messages soon grew into hundreds, according to Pansino, who said she organized them into an Excel spreadsheet — which now contains more than 200 people — as she worked to verify their identities by requesting to see IDs along with photo proof that they were on the show.\n",
      "Rosanna Pansino and her dogs at her Los Angeles home on Aug. 31.Tracy Nguyen for NBC News\n",
      "Pansino said she is also in contact with roughly 30 former and current MrBeast LLC employees about the workplace culture at Donaldson’s production company.“I think that they feel that they can trust me because I am one of the only large creators that has spoke up about my negative experience working with Jimmy,” Pansino said, “and I also let it publicly be known that I am going to start speaking up more and trying to hold people accountable, especially him and the people at his company.”Still, Donaldson’s YouTube channel has continued to gain millions of subscribers in the weeks since the controversies began, and he has carried on uploading his usual videos.Ready for backlashSeveral longtime friends of Pansino said they’ve never known her as one to insert herself in internet drama, but that they were also unsurprised to see her take a stand against Donaldson.Jen Spada, a hometown friend who met Pansino more than a decade ago through her sister and managing director Molly Lu, said that the creator “cares deeply” about people and has always exhibited a “very strong sense of fairness.”“Even though she hasn’t gotten involved in many controversies in the past, it’s more like [Creator Games 3] was one that was very obvious and really affected her,” Spada said. “And when she started to speak up more and more, people started reaching out to her, and then she recognized, ‘I can use my platform as a voice for these other people.’”Rosanna Pansino decorates a cake at her Los Angeles home on Aug. 31.Tracy Nguyen for NBC NewsJoey Graceffa, a fellow OG YouTuber who has regularly collaborated with Pansino, said his friend of nearly 10 years still gives off a “sweet grandma vibe.” Recently, however, he said he has watched her evolve into someone who is more open to expressing her thoughts online, even as some online question her intentions for speaking out.When she first shared on X her concerns around “Beast Games,” some users replied suggesting she held a personal vendetta against Donaldson for her past negative experience with him, or that she might be seeking attention by going after the world’s biggest creator. Pansino has alsopostedon X defending herself against someone who accused her of “grifting.”“It’s really scary putting yourself out there and standing up for what you think is right, and the fear of the death threats and all that would be enough to stop anyone from continuing talking about something,” Graceffa said. “So for people who do think she’s just doing this for attention, I would have to say: Would you want that kind of negativity being thrown at you, those threats?”Describing the harassment she received when she first spoke out about her Creator Games 3 experience with Donaldson, Pansino said she thought she was having a heart attack: “My heart started hurting so bad. I found out later that was a panic attack, but I started shaking, and I was on the ground, and I started vomiting and I just wanted it to stop.”But Pansino said she’s more equipped to handle the backlash this time around.“Being a baker online for so many years and just bringing joy to people, that was just very intense,” she said. “I’ve never been through something like that before. I think that it changed me, and it made me want to get smarter and stronger.”\n",
      "Rosanna Pansino at her Los Angeles home on Aug. 31.Tracy Nguyen for NBC News\n",
      "Holding back tears as she spoke, Pansino recounted talking to her legal team and other authorities about how to report and better protect herself against future death threats. Her home is now outfitted with security measures.She added that, although she still feels some fear now, “I feel more strong and more brave, and I feel a calling to do what’s right more than I am scared.”Pansino said she understands why many creators might be fearful of getting on Donaldson’s bad side, and that they might not want to risk losing business partnerships or collabs with one of the world’s most powerful internet personalities. At the same time, she said, she can’t help but feel frustrated.As for her own repercussions, Pansino said her managers have gotten concerned calls from brands who are reconsidering working with her — just as many of her friends warned would happen. But she said her income is diversified enough that she no longer relies on YouTube monetization or brand partnerships to remain financially stable.She’s finishing up a new poolside studio that she’s building in her backyard, with a full kitchen setup and loungelike area where she plans to film future content. And when she’s not in her office drawing mind maps, she continues to dote on her three French bulldogs Blueberry Muffin, Honey Bun and Coconut, who are quick to waddle after her wherever she goes.Having crafted an entire career out of her love for baking, Pansino said her pure enjoyment of the activity has never waned. And whether she pivots to new genres or retires today, she said she’ll probably continue to bake for the rest of her life.“Next for me, I’d really like to start a family,” Pansino said. “I’m finally in that happy place that I worked so hard to come to.”Angela YangAngela Yang is a culture and trends reporter for NBC News.Chloe MelasChloe Melas is an entertainment correspondent for NBC News.\n",
      "\n",
      "Sept. 4, 2024, 10:00 PM UTCByRich Schapiro,Dan De LuceandMithil AggarwalAs Covid-19 was spreading across New York in March 2020, state officials held a private conference call to discuss their response to the pandemic. But there was someone else listening in who had no business being on the call: a Chinese government official.The official, according to federal prosecutors, had been surreptitiously added to the call byLinda Sun, who was then an officer in the administration of Gov. Andrew Cuomo.“Keep your phone muted,” Sun admonished the Chinese official in a written message during the call, according to prosecutors.At the close of the 32-minute discussion, prosecutors say, the official sent Sun a two-word review: “[v]ery useful.”The call was one of the episodes highlighted in a 64-page indictment accusing Sun of using her positions in New York state government to benefit the Chinese government. In return for shaping government messages to align with Chinese priorities and freezing out Taiwanese officials, she and her family received a range of benefits including millions in kickbacks, free travel andmore than a dozen Nanjing-style salted ducks.Former New York Governor Kathy Hochul aide Linda Sun leaves Brooklyn Federal Court after her arraignment on Sept. 3, 2024, in New York.Corey Sipkin / APSun, 41, who worked under Cuomo and his successor, Gov. Kathy Hochul, has pleaded not guilty.U.S. counterintelligence officials have long harbored concerns, publicly and privately, about China’s elaborate efforts to try to spy and exert influence across American society, including bribing members of the military and the tech industry.Part of Beijing’s long-term strategy has also involved targeting local and state officials with the hope of securing more support for China and gaining insights into political decision making as those officials rise to higher office, officials say.The case involving Sun is typical of China’s tactics, according to Dennis Wilder, a former senior CIA official who focused on China at the agency.“This is a classic Ministry of State Security operation,” Wilder said, referring to China’s main intelligence agency. “You go after naturalized American citizens with large connections to China. They speak Chinese. They have family back in China. They want business opportunities in China.”A top priority for the Chinese intelligence services is to “disrupt Taiwan” in any location, including in Chinatowns in U.S. cities or state legislatures, Wilder said.“Somebody working for Hochul would be very useful in that regard. She would be in a position to press the pro-Beijing case and to muzzle the Taiwan case,” said Wilder, now an assistant professor at Georgetown University.Craig Singleton, senior China fellow at the Washington-based Foundation for Defense of Democracies think tank, said the case illustrated how China tries to use covert actors to shape political decisions at all levels of government in the United States.“Just as TikTok has raised concerns about data collection and influence operations, this situation underscores the lengths to which China is willing to go to infiltrate and manipulate American institutions from within,” Singleton said.“The charges against Linda Sun illustrate a broader strategy by China to infiltrate and exert influence at all levels of U.S. governance, from local to federal, by exploiting trust and access within political circles,” he said.A sustained influence campaignSun is the latest in a series of people living in New York to be accused by federal prosecutors of being a secret Chinese agent.Last month,Yuanjun Tang, who gained U.S. citizenship after being granted political asylum, was accused of spying on Chinese pro-democracy activists and dissidents. Tang, 67, helped Chinese authorities infiltrate a group chat on an encrypted messaging application used by numerous Chinese dissidents, according to federal prosecutors.Earlier in August,Shujun Wang, a Chinese American scholar who helped found a pro-democracy group in New York, was convicted of using his reputation to gather information on dissidents and share it with the Chinese government. Wang, 75, is set to be sentenced in January.Chinese-American academic Wang Shujun after being convicted in Brooklyn, N.Y., on charges of acting as an illegal agent of China's government on Aug. 6.Luc Cohen / ReutersProsecutors said both men were acting at the behest of China’s Ministry of State Security.Last year, Chinese nationals Lu Jianwang, 61, and Chen Jinping, 59, were arrested on charges ofoperating an illegal police stationin New York to “monitor and intimidate” Chinese government critics, the Justice Department said. The station, located in an office building in Chinatown, was raided by FBI officers after it was closed in the fall of 2022.The Chinese government has repeatedly denied the allegations leveled by federal prosecutors.Chinese Foreign Ministry spokesperson Mao Ning on Wednesday declined to comment on the charges against Sun.“I won’t comment on domestic cases of the United States,” she said at a regular briefing in Beijing. “However, we oppose any malicious attempts to implicate, smear or slander China.”Liu Pengyu, the spokesman for the Chinese embassy in Washington, said he was not aware of the details of the Sun case.“But in recent years, the U.S. government and media have frequently hyped up the so-called ‘Chinese agents’ narratives, many of which have later been proven untrue,” he said. “China requires its citizens overseas to comply with the laws and regulations of the host country, and we firmly oppose the groundlessly slandering and smearing targeting China.”\"Harry\" Lu Jianwang, second from left, leaves Brooklyn federal court with his lawyer after his arraignment on April 17, 2023.Bebeto Matthews / AP fileA naturalized U.S. citizen who was born in China, Sun worked in New York state government for roughly 15 years. She and her husband Chris Hu, who was also charged, lived in a$3.5 million homein a gated community in Manhasset on Long Island.With the millions they made from the Chinese government, they also purchased a $1.9 million home in Honolulu, Hawaii and luxury cars, including a 2024 Ferrari, according to federal prosecutors.Chinese-Americans with extensive family connections in China are potentially ripe for recruitment by the Chinese government “because you can threaten families, you can incentivize families,” said Wilder, the former CIA official. The message from Beijing, he said, is “‘your family is going to have a lot better life back home if you cooperate with us.”The campaign is not focused solely on the U.S., experts say. There have been a series of allegations of Chinese espionage in Canada and across Europe, including in Britain, Germany, the Netherlands and Belgium. China has denied all the accusations.“Of course, Western states are also spying against and in China, that’s just the normal old game,” said Stephan Blancke, an associate fellow at the Royal United Services Institute, or RUSI, a London-based think tank.The difference, he said, is that “there are numerous cases in which people of Chinese descent or Chinese citizens are massively threatened, intimidated and pressurized by Chinese secret services.”Blancke added that the Sun case was “extremely serious because it shows the political levels to which the Chinese secret services now have direct or indirect access.”In 2022, the U.S. National Counterintelligence and Security Center, part of the Office of the Director of National Intelligence, released a report warning that China was stepping up its influence campaign in the U.S.“The PRC understands U.S. state and local leaders enjoy a degree of independence from Washington and may seek to use them as proxies to advocate for national U.S. policies Beijing desires, including improved U.S. economic cooperation with China, and reduced U.S. criticism of China’s policies towards Taiwan, Tibetans, Uyghurs, pro-democracy activists, and others,” the report said.According to the indictment, Sun succeeded in getting references to the plight of Uyghurs, a predominantly Muslim ethnic group that has long faced persecution in China, removed from Hochul’s public statements in early 2021.Hochul, at an event Wednesday morning, called the allegations against Sun “absolutely shocking.”“To think that any foreign government has the audacity to infiltrate a government organization like the state of New York has to be addressed with,” she added.Rich SchapiroRich Schapiro is a reporter for the NBC News Investigative Unit.Dan De LuceDan De Luce is a reporter for the NBC News Investigative Unit.Mithil AggarwalMithil Aggarwal is a Hong Kong-based reporter/producer for NBC News.\n"
     ]
    }
   ],
   "source": [
    "#Accedemos a todos los links (links_3) e imprimimos el texto obtenido.\n",
    "\n",
    "for link in links_3:\n",
    "    html_page = requests.get(link)\n",
    "    soup_page = BeautifulSoup(html_page.content,\"lxml\")\n",
    "    for news in soup_page.find_all(\"div\", class_=\"article-body layout-grid-item layout-grid-item--with-gutter-s-only grid-col-10-m grid-col-push-1-m grid-col-6-xl grid-col-push-2-xl article-body--custom-column\"):\n",
    "        print(news.get_text(strip=True))"
   ]
  },
  {
   "cell_type": "markdown",
   "metadata": {},
   "source": [
    "FUNCIONES ESTANDARIZADAS PARA SCRAPEAR NOTICIERO \"EL PAIS\""
   ]
  },
  {
   "cell_type": "code",
   "execution_count": 42,
   "metadata": {},
   "outputs": [],
   "source": [
    "#Import libraries\n",
    "import requests\n",
    "from bs4 import BeautifulSoup\n",
    "import json \n",
    "import html\n",
    "import html5lib"
   ]
  },
  {
   "cell_type": "code",
   "execution_count": 43,
   "metadata": {},
   "outputs": [],
   "source": [
    "#Define a dictionary with all the news options\n",
    "#Each web site has it's own class that must be checked and updated in case of needed.\n",
    "news_sites = [\n",
    "    {\n",
    "        \"name\": \"El pais\",\n",
    "        \"url\":\"https://elpais.com/\",\n",
    "        \"classes\": [\n",
    "            { \"tag\" : \"h2\",\n",
    "            \"class\" : \"c_t\",\n",
    "            \"title\" :\"Titulares\"\n",
    "            },\n",
    "            { \"tag\" : \"h2\",\n",
    "            \"class\" : \"c_t c_t-i\",\n",
    "            \"title\":\"Opiniones\"\n",
    "            },\n",
    "            { \"tag\" : \"div\",\n",
    "            \"class\" : \"b-t_a _df\",\n",
    "            \"title\": \"Lo mas visto\"\n",
    "            }\n",
    "        ]\n",
    "    },\n",
    "    {\n",
    "        \"name\": \"NBC\",\n",
    "        \"url\":\"https://www.nbcnews.com/\",\n",
    "        \"classes\": [\n",
    "            { \"tag\" : \"h2\",\n",
    "            \"class\" : \"c_t\",\n",
    "            \"title\" :\"Titulares\"\n",
    "            },\n",
    "            { \"tag\" : \"h2\",\n",
    "            \"class\" : \"c_t c_t-i\",\n",
    "            \"title\":\"Opiniones\"\n",
    "            },\n",
    "            { \"tag\" : \"div\",\n",
    "            \"class\" : \"b-t_a _df\",\n",
    "            \"title\": \"Lo mas visto\"\n",
    "            }\n",
    "        ]\n",
    "    },\n",
    "]\n"
   ]
  },
  {
   "cell_type": "code",
   "execution_count": 44,
   "metadata": {},
   "outputs": [],
   "source": [
    "user_input_1 = input(\"Ingrese el nombre del periodico que desea resumir \").strip()"
   ]
  },
  {
   "cell_type": "code",
   "execution_count": 45,
   "metadata": {},
   "outputs": [
    {
     "name": "stdout",
     "output_type": "stream",
     "text": [
      "{'name': 'El pais', 'url': 'https://elpais.com/', 'classes': [{'tag': 'h2', 'class': 'c_t', 'title': 'Titulares'}, {'tag': 'h2', 'class': 'c_t c_t-i', 'title': 'Opiniones'}, {'tag': 'div', 'class': 'b-t_a _df', 'title': 'Lo mas visto'}]}\n"
     ]
    }
   ],
   "source": [
    "user_web_selection = \"\"\n",
    "for new in news_sites:\n",
    "    if new[\"name\"] == user_input_1:\n",
    "        user_web_selection = new"
   ]
  },
  {
   "cell_type": "code",
   "execution_count": 46,
   "metadata": {},
   "outputs": [],
   "source": [
    "web_sections = []\n",
    "\n",
    "def scrape_el_pais_header(url):\n",
    "    response = requests.get(url)\n",
    "    if response.status_code == 200:\n",
    "        soup = BeautifulSoup(response.content, 'lxml')\n",
    "\n",
    "        # Encuentra el div que contiene las opciones del encabezado\n",
    "        header_div = soup.find(\"div\", class_=\"sm _df\")\n",
    "        if header_div:\n",
    "            # Encuentra todos los enlaces dentro de ese div\n",
    "            header_options = header_div.find_all(\"a\")\n",
    "            \n",
    "            # Itera sobre cada enlace encontrado\n",
    "            for option in header_options:\n",
    "                web_sections.append(\n",
    "                    {\n",
    "                        \"section\": option.get_text(strip=True),  # Obtiene el texto del enlace\n",
    "                        \"url\": option.get(\"href\"),  # Obtiene el atributo href,\n",
    "                        \"categories\": []\n",
    "                    }\n",
    "                )\n",
    "        else:\n",
    "            print(\"No se encontró el div con las opciones del encabezado.\")\n",
    "\n",
    "    else:\n",
    "        print(f\"Error al acceder a {url}\")\n",
    "\n",
    "scrape_el_pais_header(url = user_web_selection[\"url\"])"
   ]
  },
  {
   "cell_type": "code",
   "execution_count": 47,
   "metadata": {},
   "outputs": [],
   "source": [
    "user_input_2 = input(\"Ingrese el nombre de la sección que desea buscar: \").strip()"
   ]
  },
  {
   "cell_type": "code",
   "execution_count": 48,
   "metadata": {},
   "outputs": [
    {
     "name": "stdout",
     "output_type": "stream",
     "text": [
      "User selection:  {'section': 'Internacional', 'url': 'https://elpais.com/internacional/', 'categories': []}\n"
     ]
    }
   ],
   "source": [
    " # Busca la seleccion del usuario en el diccionario creado y, si existe, la guarda en una variable.\n",
    "found = False\n",
    "user_section_selection = \"\"\n",
    "\n",
    "for item in web_sections:\n",
    "    if item[\"section\"].lower() == user_input_2.lower():\n",
    "        print(\"User selection: \", item)\n",
    "        user_section_selection = item\n",
    "        found = True\n",
    "        break\n",
    "\n",
    "if not found:\n",
    "    print(f\"No se encontró la sección '{user_input_2}' en el diccionario.\")\n",
    "        "
   ]
  },
  {
   "cell_type": "code",
   "execution_count": 56,
   "metadata": {},
   "outputs": [],
   "source": [
    "def news_sites_scrape(user_selection, classes):\n",
    "\n",
    "    url = user_selection[\"url\"]\n",
    "    section = user_selection[\"section\"] \n",
    "    response = requests.get(url)\n",
    "    response.encoding = 'utf-8'\n",
    "    if response.status_code == 200:\n",
    "        #soup = BeautifulSoup(response.content, 'lxml')\n",
    "        #soup = BeautifulSoup(response.text, 'html.parser')\n",
    "        soup = BeautifulSoup(response.text, 'html5lib')\n",
    "        \n",
    "        categories = []\n",
    "        for dicc in classes:\n",
    "            news_tags = soup.find_all(dicc[\"tag\"], class_=dicc[\"class\"])\n",
    "            news_links = [link.a[\"href\"] for link in news_tags]\n",
    "            category = {}\n",
    "            category[\"category_name\"] = dicc[\"title\"]\n",
    "            category[\"news\"] = []\n",
    "\n",
    "            for news_url in news_links: \n",
    "                news_response = requests.get(news_url)\n",
    "                news_soup = BeautifulSoup(news_response.content, 'lxml')\n",
    "                title = news_soup.find(\"h1\", class_=\"a_t\")\n",
    "                paragraphs = news_soup.find_all('p')\n",
    "                #article_text = ' '.join([p.get_text(strip=True) for p in paragraphs])\n",
    "                article_text = ' '.join([html.unescape(p.get_text(strip=True)) for p in paragraphs])\n",
    "                #article_text = article_text.replace(\"\\\\u00f3\", \"ó\").replace(\"\\u00e1\", \"á\")  \n",
    "                if title:\n",
    "                    category[\"news\"].append({\n",
    "                        \"new_title\":title.text,\n",
    "                        \"new\" : article_text\n",
    "                    })\n",
    "\n",
    "            categories.append(category)\n",
    "        \n",
    "        for option in web_sections:\n",
    "            if option[\"section\"] == section:\n",
    "                option[\"categories\"] = categories\n",
    "       \n",
    "    else:\n",
    "        print(f\"Error al acceder a {url}\")\n",
    "\n",
    "news_sites_scrape(user_selection, user_web_selection[\"classes\"])\n"
   ]
  },
  {
   "cell_type": "code",
   "execution_count": 60,
   "metadata": {},
   "outputs": [],
   "source": [
    "#Save all the text generated in one variable that will be te input in the transformer.\n",
    "text_to_resume = \"\"\n",
    "\n",
    "for item in web_sections:\n",
    "    if len(item[\"categories\"]) > 0:\n",
    "        for category in item[\"categories\"]:\n",
    "            text_to_resume += category[\"category_name\"] + \"\\n\"  \n",
    "            for news_item in category[\"news\"]:\n",
    "                text_to_resume += news_item[\"new_title\"] + \"\\n\"  \n",
    "                text_to_resume += news_item[\"new\"] + \"\\n\"      \n",
    "                text_to_resume += \"\\n\" "
   ]
  },
  {
   "cell_type": "code",
   "execution_count": null,
   "metadata": {},
   "outputs": [],
   "source": []
  }
 ],
 "metadata": {
  "kernelspec": {
   "display_name": "venv",
   "language": "python",
   "name": "python3"
  },
  "language_info": {
   "codemirror_mode": {
    "name": "ipython",
    "version": 3
   },
   "file_extension": ".py",
   "mimetype": "text/x-python",
   "name": "python",
   "nbconvert_exporter": "python",
   "pygments_lexer": "ipython3",
   "version": "3.9.13"
  }
 },
 "nbformat": 4,
 "nbformat_minor": 2
}
